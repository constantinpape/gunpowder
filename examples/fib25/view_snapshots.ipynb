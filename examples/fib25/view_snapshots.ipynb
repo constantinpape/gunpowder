{
 "cells": [
  {
   "cell_type": "code",
   "execution_count": 2,
   "metadata": {
    "collapsed": false
   },
   "outputs": [
    {
     "name": "stdout",
     "output_type": "stream",
     "text": [
      "Adding dataset snapshots/batch_1.hdf/volumes/labels/affs\n",
      "Adding dataset snapshots/batch_1.hdf/volumes/labels/mask\n",
      "Adding dataset snapshots/batch_1.hdf/volumes/labels/neuron_ids\n",
      "Adding dataset snapshots/batch_1.hdf/volumes/loss_scale\n",
      "Adding dataset snapshots/batch_1.hdf/volumes/predicted_affs\n",
      "Adding dataset snapshots/batch_1.hdf/volumes/predicted_affs_loss_gradient\n",
      "Adding dataset snapshots/batch_1.hdf/volumes/raw\n"
     ]
    },
    {
     "data": {
      "text/html": [
       "<iframe src=\"http://localhost:8888/neuroglancer#!%7B%22layers%22:%7B%22snapshots/batch_1.hdf/volumes/labels/affs%22:%7B%22source%22:%22python://http://localhost:8888/3db24ad67b680372d207ee743de3b7db12780b3e%22,%22type%22:%22image%22,%22shader%22:%22void%20main()%20%7B%20emitRGB(vec3(toNormalized(getDataValue(0)),toNormalized(getDataValue(1)),toNormalized(getDataValue(2))));%20%7D%22%7D,%22snapshots/batch_1.hdf/volumes/labels/mask%22:%7B%22source%22:%22python://http://localhost:8888/0c71d481b14ca754b8935f041250860563b4f881%22,%22type%22:%22image%22%7D,%22snapshots/batch_1.hdf/volumes/labels/neuron_ids%22:%7B%22source%22:%22python://http://localhost:8888/9fc0d1be5a38e4f54430266a623ffe21385f9707%22,%22type%22:%22segmentation%22%7D,%22snapshots/batch_1.hdf/volumes/loss_scale%22:%7B%22source%22:%22python://http://localhost:8888/a96bab67ea64b59f850e2ba2af36e541822c11af%22,%22type%22:%22image%22,%22shader%22:%22void%20main()%20%7B%20emitRGB(vec3(toNormalized(getDataValue(0)),toNormalized(getDataValue(1)),toNormalized(getDataValue(2))));%20%7D%22%7D,%22snapshots/batch_1.hdf/volumes/predicted_affs%22:%7B%22source%22:%22python://http://localhost:8888/e3276aca95f5456586f8a5c0c518eb28f64536eb%22,%22type%22:%22image%22,%22shader%22:%22void%20main()%20%7B%20emitRGB(vec3(toNormalized(getDataValue(0)),toNormalized(getDataValue(1)),toNormalized(getDataValue(2))));%20%7D%22%7D,%22snapshots/batch_1.hdf/volumes/predicted_affs_loss_gradient%22:%7B%22source%22:%22python://http://localhost:8888/fbc849f0015a8d134c0877d07cd26bfa8c1d4ce6%22,%22type%22:%22image%22,%22shader%22:%22void%20main()%20%7B%20emitRGB(vec3(toNormalized(getDataValue(0)),toNormalized(getDataValue(1)),toNormalized(getDataValue(2))));%20%7D%22%7D,%22snapshots/batch_1.hdf/volumes/raw%22:%7B%22source%22:%22python://http://localhost:8888/379d9aa2dcfec5bfc0246ef8db36a8bec6cf1479%22,%22type%22:%22image%22%7D%7D%7D\" width=\"100%\" height=\"1024px\"><\\iframe>"
      ],
      "text/plain": [
       "<IPython.core.display.HTML object>"
      ]
     },
     "execution_count": 2,
     "metadata": {},
     "output_type": "execute_result"
    }
   ],
   "source": [
    "import nyroglancer\n",
    "\n",
    "viewer = nyroglancer.Hdf5Viewer('snapshots/batch_1.hdf')\n",
    "viewer.set_hostname('localhost:8888') # change this to host:port of your jupyter instance\n",
    "viewer.show()"
   ]
  },
  {
   "cell_type": "code",
   "execution_count": null,
   "metadata": {
    "collapsed": true
   },
   "outputs": [],
   "source": []
  }
 ],
 "metadata": {
  "kernelspec": {
   "display_name": "Python 2",
   "language": "python",
   "name": "python2"
  },
  "language_info": {
   "codemirror_mode": {
    "name": "ipython",
    "version": 2
   },
   "file_extension": ".py",
   "mimetype": "text/x-python",
   "name": "python",
   "nbconvert_exporter": "python",
   "pygments_lexer": "ipython2",
   "version": "2.7.13"
  }
 },
 "nbformat": 4,
 "nbformat_minor": 0
}
